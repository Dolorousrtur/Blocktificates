{
 "cells": [
  {
   "cell_type": "markdown",
   "metadata": {},
   "source": [
    "# Blockctificates project\n",
    "Team members:\n",
    "* Rasul Khasyanov \n",
    "* Sathyart Mishra Sharma\n",
    "* Artur Grigorev"
   ]
  },
  {
   "cell_type": "markdown",
   "metadata": {},
   "source": [
    "### Welcome to the Blocktificates demo!"
   ]
  },
  {
   "cell_type": "code",
   "execution_count": 22,
   "metadata": {},
   "outputs": [
    {
     "name": "stdout",
     "output_type": "stream",
     "text": [
      "Number of certificates:  7\n",
      "Example certificate:\n",
      "{'student_id': 1, 'name': 'Ivan Ivanov', 'date': '2017-12-21', 'grade': '87.7'}\n"
     ]
    }
   ],
   "source": [
    "from json import load, loads\n",
    "from pprint import PrettyPrinter, pprint\n",
    "\n",
    "with open('certificates.json', 'r') as f:\n",
    "    certificates_list = load(f)\n",
    "    \n",
    "print(\"Number of certificates: \", len(certificates_list))\n",
    "print(\"Example certificate:\")\n",
    "print(certificates_list[0])"
   ]
  },
  {
   "cell_type": "code",
   "execution_count": 23,
   "metadata": {},
   "outputs": [],
   "source": [
    "from creator import Certificate\n",
    "\n",
    "certificates = [Certificate(c['student_id'],\n",
    "                            c['name'],\n",
    "                            c['date'],\n",
    "                            c['grade']) for c in certificates_list]"
   ]
  },
  {
   "cell_type": "markdown",
   "metadata": {},
   "source": [
    "### Instantiating our class"
   ]
  },
  {
   "cell_type": "code",
   "execution_count": 24,
   "metadata": {},
   "outputs": [],
   "source": [
    "from certificates import BatchIssuer\n",
    "\n",
    "issuer = BatchIssuer(certificates, \"SK2057\")"
   ]
  },
  {
   "cell_type": "markdown",
   "metadata": {},
   "source": [
    "### Take a look on the Merkle root of the tree just built:"
   ]
  },
  {
   "cell_type": "code",
   "execution_count": 25,
   "metadata": {},
   "outputs": [
    {
     "name": "stdout",
     "output_type": "stream",
     "text": [
      "973f6f932b45149c2a2e9dcfb6d99421851ad944\n"
     ]
    }
   ],
   "source": [
    "print(issuer.mht_root)"
   ]
  },
  {
   "cell_type": "markdown",
   "metadata": {},
   "source": [
    "### We publish the Merkle root of our batch of certificates to the Bitcoin testnet with one command: "
   ]
  },
  {
   "cell_type": "code",
   "execution_count": 26,
   "metadata": {},
   "outputs": [
    {
     "name": "stdout",
     "output_type": "stream",
     "text": [
      "d1dd833da37b3273ab03f35da221582158732d1a4f60d9268423b7150c5ec357\n"
     ]
    }
   ],
   "source": [
    "issuer.publish()\n",
    "\n",
    "print(issuer.transaction)"
   ]
  },
  {
   "cell_type": "markdown",
   "metadata": {},
   "source": [
    "### Let's check this on a Blockchain explorer:\n",
    "\n",
    "[https://live.blockcypher.com/btc-testnet/](https://live.blockcypher.com/btc-testnet/)\n",
    "\n",
    "### Now our certificates are ready to distribute!"
   ]
  },
  {
   "cell_type": "code",
   "execution_count": 27,
   "metadata": {},
   "outputs": [
    {
     "name": "stdout",
     "output_type": "stream",
     "text": [
      "{'certificate': <creator.Certificate object at 0x7f826737ccc0>,\n",
      " 'hashpath': [('2ceba6f8d5102411d4a7f30ee65197b8dc29da24', 'r'),\n",
      "              ('2ea802769f8fbd3bc2f4b003c7053172b59b1919', 'r'),\n",
      "              ('810735e210e649107dfdfa5c05fbc9d86d155876', 'r')],\n",
      " 'position': 'd1dd833da37b3273ab03f35da221582158732d1a4f60d9268423b7150c5ec357',\n",
      " 'signature': b\"0f\\x021\\x00\\x9af\\x87_9\\x8f\\xbe]'\\x9ac\\x95\\x16\\x91\\xd7\\x91U\\xa77\"\n",
      "              b'\\x95q\\xe9\\xf7\\x03&\\xe3@X4\\xd3%\\xa1\\x18k\\xcc\\xb5e\\xdf\\xd2'\n",
      "              b'\\xa6\\xa13\\x16\\xa4\\xdd\\xec/\\xb1\\x021\\x00\\x97=\\x88O\\x17[\\x0f\\x8a'\n",
      "              b'\\xa5\\x82\\xd1[\\x92>\\x1b\\\\\\xef\\x110\\x94/\\xffr\\xd7\\xcf\\r\\xb4\\xd3'\n",
      "              b'\\x1d/\\xae\\xc9N\\x0ec\\xa7\\xb5\\xf1\\x86\\\\\\xf8V\\x19\\xbc\\xf1\\xd0gY'}\n"
     ]
    }
   ],
   "source": [
    "certificates_to_distribute = issuer.distribute_data()\n",
    "\n",
    "example_certificate = certificates_to_distribute[list(certificates_to_distribute.keys())[0]]\n",
    "pprint(example_certificate)"
   ]
  },
  {
   "cell_type": "markdown",
   "metadata": {},
   "source": [
    "### Now we instantiate a validator:"
   ]
  },
  {
   "cell_type": "code",
   "execution_count": 28,
   "metadata": {},
   "outputs": [
    {
     "data": {
      "text/plain": [
       "False"
      ]
     },
     "execution_count": 28,
     "metadata": {},
     "output_type": "execute_result"
    }
   ],
   "source": [
    "validator = issuer.create_validator()\n",
    "\n",
    "\n",
    "certificate = example_certificate['certificate']\n",
    "hashpath = example_certificate['hashpath']\n",
    "position = example_certificate['position']\n",
    "signature = example_certificate['signature']\n",
    "\n",
    "validator.validate(certificate, hashpath, position, signature)"
   ]
  },
  {
   "cell_type": "markdown",
   "metadata": {},
   "source": [
    "### What it really does"
   ]
  },
  {
   "cell_type": "code",
   "execution_count": 29,
   "metadata": {},
   "outputs": [
    {
     "name": "stdout",
     "output_type": "stream",
     "text": [
      "Root calculated: 973f6f932b45149c2a2e9dcfb6d99421851ad944\n",
      "True\n",
      "True\n",
      "False\n"
     ]
    }
   ],
   "source": [
    "# Calculate root\n",
    "root = validator._calculate_root(certificate, hashpath)\n",
    "print(\"Root calculated: {0}\".format(root))\n",
    "\n",
    "# Compare it to the transaction hash\n",
    "print(validator._check_position(root, position))\n",
    "\n",
    "# Check signature\n",
    "print(validator._check_signature(root, signature))\n",
    "\n",
    "# Check if it was revoked\n",
    "print(validator._check_revoked(certificate))"
   ]
  },
  {
   "cell_type": "markdown",
   "metadata": {
    "collapsed": true
   },
   "source": [
    "### Plagiarism detected, revoke the certificate!"
   ]
  },
  {
   "cell_type": "code",
   "execution_count": 10,
   "metadata": {},
   "outputs": [
    {
     "name": "stdout",
     "output_type": "stream",
     "text": [
      "False\n"
     ]
    }
   ],
   "source": [
    "issuer.revoke(1, \"Plagiarism\")\n",
    "\n",
    "print(validator._check_revoked(certificate))"
   ]
  },
  {
   "cell_type": "markdown",
   "metadata": {},
   "source": [
    "### Some more tests:"
   ]
  },
  {
   "cell_type": "markdown",
   "metadata": {},
   "source": [
    "#### Invalid hashpath:"
   ]
  },
  {
   "cell_type": "code",
   "execution_count": 31,
   "metadata": {},
   "outputs": [
    {
     "name": "stdout",
     "output_type": "stream",
     "text": [
      "False\n"
     ]
    }
   ],
   "source": [
    "wrong_hashpath = certificates_to_distribute[list(certificates_to_distribute.keys())[1]]['hashpath']\n",
    "wrong_root = validator._calculate_root(certificate, wrong_hashpath)\n",
    "\n",
    "print(validator._check_position(wrong_root, position))"
   ]
  },
  {
   "cell_type": "markdown",
   "metadata": {},
   "source": [
    "#### Invalid signature:"
   ]
  },
  {
   "cell_type": "code",
   "execution_count": 32,
   "metadata": {},
   "outputs": [
    {
     "name": "stdout",
     "output_type": "stream",
     "text": [
      "False\n"
     ]
    }
   ],
   "source": [
    "from signatures import generate_keys, sign\n",
    "\n",
    "private_key, _ = generate_keys()\n",
    "\n",
    "some_message = \"definately not a merkle root\"\n",
    "\n",
    "wrong_signature = sign(some_message, private_key)\n",
    "\n",
    "print(validator._check_signature(root, wrong_signature))"
   ]
  }
 ],
 "metadata": {
  "kernelspec": {
   "display_name": "Python [default]",
   "language": "python",
   "name": "python3"
  },
  "language_info": {
   "codemirror_mode": {
    "name": "ipython",
    "version": 3
   },
   "file_extension": ".py",
   "mimetype": "text/x-python",
   "name": "python",
   "nbconvert_exporter": "python",
   "pygments_lexer": "ipython3",
   "version": "3.6.3"
  }
 },
 "nbformat": 4,
 "nbformat_minor": 2
}
