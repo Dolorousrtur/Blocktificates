{
 "cells": [
  {
   "cell_type": "markdown",
   "metadata": {},
   "source": [
    "### Welcome to the Blocktificates demo!"
   ]
  },
  {
   "cell_type": "code",
   "execution_count": 12,
   "metadata": {},
   "outputs": [
    {
     "name": "stdout",
     "output_type": "stream",
     "text": [
      "Number of certificates:  7\n",
      "Example certificate:\n",
      "{'student_id': 1, 'name': 'Ivan Ivanov', 'date': '2017-12-21', 'grade': '87.7'}\n"
     ]
    }
   ],
   "source": [
    "from json import load\n",
    "from pprint import PrettyPrinter\n",
    "\n",
    "with open('certificates.json', 'r') as f:\n",
    "    certificates_list = load(f)\n",
    "    \n",
    "print(\"Number of certificates: \", len(certificates_list))\n",
    "print(\"Example certificate:\")\n",
    "print(certificates_list[0])"
   ]
  },
  {
   "cell_type": "code",
   "execution_count": 11,
   "metadata": {},
   "outputs": [],
   "source": [
    "from creator import Certificate\n",
    "\n",
    "certificates = [Certificate(c['student_id'],\n",
    "                            c['name'],\n",
    "                            c['date'],\n",
    "                            c['grade']) for c in certificates_list]"
   ]
  },
  {
   "cell_type": "markdown",
   "metadata": {},
   "source": [
    "### Instantiating our class"
   ]
  },
  {
   "cell_type": "code",
   "execution_count": 13,
   "metadata": {
    "collapsed": true
   },
   "outputs": [],
   "source": [
    "from certificates import BatchIssuer\n",
    "\n",
    "issuer = BatchIssuer(certificates, \"SK2017\")"
   ]
  },
  {
   "cell_type": "markdown",
   "metadata": {},
   "source": [
    "### A look at the Merkle Tree of our certificates"
   ]
  },
  {
   "cell_type": "code",
   "execution_count": 18,
   "metadata": {},
   "outputs": [
    {
     "data": {
      "text/plain": [
       "OrderedDict([('{\"student_id\": 1, \"name\": \"Ivan Ivanov\", \"date\": \"2017-12-21\", \"grade\": \"87.7\"}',\n",
       "              ('dfbf020ed341ed2b986ab53ee26ea022c823380d', 'r')),\n",
       "             ('{\"student_id\": 2, \"name\": \"Artur Grigorev\", \"date\": \"2017-12-21\", \"grade\": \"99.7\"}',\n",
       "              ('ce0ef8b6ef6c61b0e919fd5b45874ef04216a7e8', 'l')),\n",
       "             ('{\"student_id\": 3, \"name\": \"Sathyarth Mishra Sharma\", \"date\": \"2017-12-21\", \"grade\": \"99.7\"}',\n",
       "              ('1498b69fc4822d596090f5fdabd646a4180a03f3', 'r')),\n",
       "             ('{\"student_id\": 4, \"name\": \"Rasul Khasyanov\", \"date\": \"2017-12-21\", \"grade\": \"99.7\"}',\n",
       "              ('0d73df9f2fec9c828221c9aaa4390f5412b4d429', 'l')),\n",
       "             ('{\"student_id\": 5, \"name\": \"Igor Mazhenkov\", \"date\": \"2017-12-21\", \"grade\": \"72.1\"}',\n",
       "              ('d3d820c0e95785b8c04e942a963737ee53db04c8', 'r')),\n",
       "             ('{\"student_id\": 6, \"name\": \"Evgeniya Babak\", \"date\": \"2017-12-21\", \"grade\": \"92.2\"}',\n",
       "              ('d6569bc7372922681c5daf0084df1cc90d83fda8', 'l')),\n",
       "             ('{\"student_id\": 7, \"name\": \"Irina Vihrova\", \"date\": \"2017-12-21\", \"grade\": \"89.2\"}',\n",
       "              ('', 'r')),\n",
       "             ('ce0ef8b6ef6c61b0e919fd5b45874ef04216a7e8dfbf020ed341ed2b986ab53ee26ea022c823380d',\n",
       "              ('fbf0def5477ef62730c4cea704c43a6e564493f9', 'r')),\n",
       "             ('0d73df9f2fec9c828221c9aaa4390f5412b4d4291498b69fc4822d596090f5fdabd646a4180a03f3',\n",
       "              ('47c8e94e9e6c880ba3f4e37e0539fa01455040c9', 'l')),\n",
       "             ('d6569bc7372922681c5daf0084df1cc90d83fda8d3d820c0e95785b8c04e942a963737ee53db04c8',\n",
       "              ('773f689d95a12ac7a0c2e61b7fca3645584fa725', 'r')),\n",
       "             ('e0e04becacb9a13c9eb6fc7142a2d4c75b66513a',\n",
       "              ('3c9662b40c47679965216bf721faac2f54294d98', 'l')),\n",
       "             ('47c8e94e9e6c880ba3f4e37e0539fa01455040c9fbf0def5477ef62730c4cea704c43a6e564493f9',\n",
       "              ('0ba064867dda942e1c6efd348b984b139195ab05', 'r')),\n",
       "             ('3c9662b40c47679965216bf721faac2f54294d98773f689d95a12ac7a0c2e61b7fca3645584fa725',\n",
       "              ('70974010d9ea1ed6a16862f2c1832216ea5deb9d', 'l')),\n",
       "             ('70974010d9ea1ed6a16862f2c1832216ea5deb9d0ba064867dda942e1c6efd348b984b139195ab05',\n",
       "              ('', 'r'))])"
      ]
     },
     "execution_count": 18,
     "metadata": {},
     "output_type": "execute_result"
    }
   ],
   "source": [
    "issuer.mht.hash_pairs"
   ]
  },
  {
   "cell_type": "markdown",
   "metadata": {},
   "source": [
    "### And a look at the Merkle root:"
   ]
  },
  {
   "cell_type": "code",
   "execution_count": 24,
   "metadata": {},
   "outputs": [
    {
     "name": "stdout",
     "output_type": "stream",
     "text": [
      "3c12fbcb5fc0a55c4b7ffce7b1a3750ed8113d4c\n"
     ]
    }
   ],
   "source": [
    "print(issuer.mht_root)"
   ]
  },
  {
   "cell_type": "markdown",
   "metadata": {},
   "source": [
    "### We publish the Merkle root of our batch of certificates to the Bitcoin testnet with one command: "
   ]
  },
  {
   "cell_type": "code",
   "execution_count": 23,
   "metadata": {},
   "outputs": [
    {
     "name": "stdout",
     "output_type": "stream",
     "text": [
      "d405f9a8306becfd2863ef01baae683320ac55d374b1094271a81f3ec94785b2\n"
     ]
    }
   ],
   "source": [
    "issuer.publish()\n",
    "\n",
    "print(issuer.transaction)"
   ]
  },
  {
   "cell_type": "markdown",
   "metadata": {},
   "source": [
    "### Let's check this on a Blockchain explorer:\n",
    "\n",
    "[https://live.blockcypher.com/btc-testnet/](https://live.blockcypher.com/btc-testnet/)\n",
    "\n",
    "### Now our certificates are ready to distribute!"
   ]
  },
  {
   "cell_type": "code",
   "execution_count": 30,
   "metadata": {},
   "outputs": [
    {
     "data": {
      "text/plain": [
       "{'certificate': '{\"student_id\": 1, \"name\": \"Ivan Ivanov\", \"date\": \"2017-12-21\", \"grade\": \"87.7\"}',\n",
       " 'hashpath': [('dfbf020ed341ed2b986ab53ee26ea022c823380d', 'r'),\n",
       "  ('fbf0def5477ef62730c4cea704c43a6e564493f9', 'r'),\n",
       "  ('0ba064867dda942e1c6efd348b984b139195ab05', 'r')],\n",
       " 'position': 'd405f9a8306becfd2863ef01baae683320ac55d374b1094271a81f3ec94785b2',\n",
       " 'signature': b'0e\\x020\\x06\\x18\\x94\\x00\\x8f=i\\xe6B_\\xdb4\\x96E\\x84\\x08\\xf1x\\x8e\\xc9\\xab\\x90\\xac\\xb0\\xf8\\xfe\\x15s\\xc9\\xac\\xba\\x1a\\xc0\\x15\\x93y\\xb8\\r*\\xca\\xf7*\\xa9K\\x08{\\xa2E\\x021\\x00\\x98I\\\\U\\xf8\\xad\\xb2\\x00,\\xa1\\xc5GU\\xc1?\\xe7o&\\xc4\\xd0\\x86\\x99\\\\\\x86\\x0e2Z%\\xa3\\x8f\\x9a\\xca\\x1d\\xba\\xa5\\x87n\\xbd\\xfb\\x01[\\xb3\\xd7\\xd2D\\xea\\x87\\xda'}"
      ]
     },
     "execution_count": 30,
     "metadata": {},
     "output_type": "execute_result"
    }
   ],
   "source": [
    "certificates_to_distribute = issuer.distribute_data()\n",
    "\n",
    "certificates_to_distribute[list(certificates_to_distribute.keys())[0]]"
   ]
  },
  {
   "cell_type": "markdown",
   "metadata": {},
   "source": [
    "### Now we instantiate a validator:"
   ]
  },
  {
   "cell_type": "code",
   "execution_count": 21,
   "metadata": {
    "collapsed": true
   },
   "outputs": [],
   "source": [
    "validator = issuer.create_validator()\n",
    "\n"
   ]
  },
  {
   "cell_type": "markdown",
   "metadata": {},
   "source": [
    "(Insert stuff about validation here)"
   ]
  },
  {
   "cell_type": "code",
   "execution_count": null,
   "metadata": {
    "collapsed": true
   },
   "outputs": [],
   "source": []
  }
 ],
 "metadata": {
  "kernelspec": {
   "display_name": "Python 3",
   "language": "python",
   "name": "python3"
  },
  "language_info": {
   "codemirror_mode": {
    "name": "ipython",
    "version": 3
   },
   "file_extension": ".py",
   "mimetype": "text/x-python",
   "name": "python",
   "nbconvert_exporter": "python",
   "pygments_lexer": "ipython3",
   "version": "3.6.3"
  }
 },
 "nbformat": 4,
 "nbformat_minor": 2
}
