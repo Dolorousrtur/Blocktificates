{
 "cells": [
  {
   "cell_type": "markdown",
   "metadata": {},
   "source": [
    "# Blockctificates project\n",
    "Team members:\n",
    "* Rasul Khasyanov \n",
    "* Sathyart Mishra Sharma\n",
    "* Artur Grigorev"
   ]
  },
  {
   "cell_type": "markdown",
   "metadata": {},
   "source": []
  },
  {
   "cell_type": "markdown",
   "metadata": {},
   "source": [
    "### Welcome to the Blocktificates demo!"
   ]
  },
  {
   "cell_type": "code",
   "execution_count": 19,
   "metadata": {},
   "outputs": [
    {
     "name": "stdout",
     "output_type": "stream",
     "text": [
      "Number of certificates:  7\n",
      "Example certificate:\n",
      "{'student_id': 1, 'name': 'Ivan Ivanov', 'date': '2017-12-21', 'grade': '87.7'}\n"
     ]
    }
   ],
   "source": [
    "from json import load, loads\n",
    "from pprint import PrettyPrinter, pprint\n",
    "\n",
    "with open('certificates.json', 'r') as f:\n",
    "    certificates_list = load(f)\n",
    "    \n",
    "print(\"Number of certificates: \", len(certificates_list))\n",
    "print(\"Example certificate:\")\n",
    "print(certificates_list[0])"
   ]
  },
  {
   "cell_type": "code",
   "execution_count": 3,
   "metadata": {
    "collapsed": true
   },
   "outputs": [],
   "source": [
    "from creator import Certificate\n",
    "\n",
    "certificates = [Certificate(c['student_id'],\n",
    "                            c['name'],\n",
    "                            c['date'],\n",
    "                            c['grade']) for c in certificates_list]"
   ]
  },
  {
   "cell_type": "markdown",
   "metadata": {},
   "source": [
    "### Instantiating our class"
   ]
  },
  {
   "cell_type": "code",
   "execution_count": 4,
   "metadata": {
    "collapsed": true
   },
   "outputs": [],
   "source": [
    "from certificates import BatchIssuer\n",
    "\n",
    "issuer = BatchIssuer(certificates, \"SK2017\")"
   ]
  },
  {
   "cell_type": "markdown",
   "metadata": {},
   "source": [
    "### A look at the Merkle Tree of our certificates"
   ]
  },
  {
   "cell_type": "code",
   "execution_count": 5,
   "metadata": {},
   "outputs": [
    {
     "data": {
      "text/plain": [
       "OrderedDict([('{\"student_id\": 1, \"name\": \"Ivan Ivanov\", \"date\": \"2017-12-21\", \"grade\": \"87.7\"}',\n",
       "              ('dfbf020ed341ed2b986ab53ee26ea022c823380d', 'r')),\n",
       "             ('{\"student_id\": 2, \"name\": \"Artur Grigorev\", \"date\": \"2017-12-21\", \"grade\": \"99.7\"}',\n",
       "              ('ce0ef8b6ef6c61b0e919fd5b45874ef04216a7e8', 'l')),\n",
       "             ('{\"student_id\": 3, \"name\": \"Sathyarth Mishra Sharma\", \"date\": \"2017-12-21\", \"grade\": \"99.7\"}',\n",
       "              ('1498b69fc4822d596090f5fdabd646a4180a03f3', 'r')),\n",
       "             ('{\"student_id\": 4, \"name\": \"Rasul Khasyanov\", \"date\": \"2017-12-21\", \"grade\": \"99.7\"}',\n",
       "              ('0d73df9f2fec9c828221c9aaa4390f5412b4d429', 'l')),\n",
       "             ('{\"student_id\": 5, \"name\": \"Igor Mazhenkov\", \"date\": \"2017-12-21\", \"grade\": \"72.1\"}',\n",
       "              ('d3d820c0e95785b8c04e942a963737ee53db04c8', 'r')),\n",
       "             ('{\"student_id\": 6, \"name\": \"Evgeniya Babak\", \"date\": \"2017-12-21\", \"grade\": \"92.2\"}',\n",
       "              ('d6569bc7372922681c5daf0084df1cc90d83fda8', 'l')),\n",
       "             ('{\"student_id\": 7, \"name\": \"Irina Vihrova\", \"date\": \"2017-12-21\", \"grade\": \"89.2\"}',\n",
       "              ('', 'r')),\n",
       "             ('ce0ef8b6ef6c61b0e919fd5b45874ef04216a7e8dfbf020ed341ed2b986ab53ee26ea022c823380d',\n",
       "              ('fbf0def5477ef62730c4cea704c43a6e564493f9', 'r')),\n",
       "             ('0d73df9f2fec9c828221c9aaa4390f5412b4d4291498b69fc4822d596090f5fdabd646a4180a03f3',\n",
       "              ('47c8e94e9e6c880ba3f4e37e0539fa01455040c9', 'l')),\n",
       "             ('d6569bc7372922681c5daf0084df1cc90d83fda8d3d820c0e95785b8c04e942a963737ee53db04c8',\n",
       "              ('773f689d95a12ac7a0c2e61b7fca3645584fa725', 'r')),\n",
       "             ('e0e04becacb9a13c9eb6fc7142a2d4c75b66513a',\n",
       "              ('3c9662b40c47679965216bf721faac2f54294d98', 'l')),\n",
       "             ('47c8e94e9e6c880ba3f4e37e0539fa01455040c9fbf0def5477ef62730c4cea704c43a6e564493f9',\n",
       "              ('0ba064867dda942e1c6efd348b984b139195ab05', 'r')),\n",
       "             ('3c9662b40c47679965216bf721faac2f54294d98773f689d95a12ac7a0c2e61b7fca3645584fa725',\n",
       "              ('70974010d9ea1ed6a16862f2c1832216ea5deb9d', 'l')),\n",
       "             ('70974010d9ea1ed6a16862f2c1832216ea5deb9d0ba064867dda942e1c6efd348b984b139195ab05',\n",
       "              ('', 'r'))])"
      ]
     },
     "execution_count": 5,
     "metadata": {},
     "output_type": "execute_result"
    }
   ],
   "source": [
    "issuer.mht.hash_pairs"
   ]
  },
  {
   "cell_type": "markdown",
   "metadata": {},
   "source": [
    "### And a look at the Merkle root:"
   ]
  },
  {
   "cell_type": "code",
   "execution_count": 6,
   "metadata": {},
   "outputs": [
    {
     "name": "stdout",
     "output_type": "stream",
     "text": [
      "3c12fbcb5fc0a55c4b7ffce7b1a3750ed8113d4c\n"
     ]
    }
   ],
   "source": [
    "print(issuer.mht_root)"
   ]
  },
  {
   "cell_type": "markdown",
   "metadata": {},
   "source": [
    "### We publish the Merkle root of our batch of certificates to the Bitcoin testnet with one command: "
   ]
  },
  {
   "cell_type": "code",
   "execution_count": 7,
   "metadata": {},
   "outputs": [
    {
     "name": "stdout",
     "output_type": "stream",
     "text": [
      "64ae595b579f72e188ca490046564229ba030ad7cbf04d24c9537c5e2777c0f6\n"
     ]
    }
   ],
   "source": [
    "issuer.publish()\n",
    "\n",
    "print(issuer.transaction)"
   ]
  },
  {
   "cell_type": "markdown",
   "metadata": {},
   "source": [
    "### Let's check this on a Blockchain explorer:\n",
    "\n",
    "[https://live.blockcypher.com/btc-testnet/](https://live.blockcypher.com/btc-testnet/)\n",
    "\n",
    "### Now our certificates are ready to distribute!"
   ]
  },
  {
   "cell_type": "code",
   "execution_count": 14,
   "metadata": {},
   "outputs": [
    {
     "name": "stdout",
     "output_type": "stream",
     "text": [
      "{'certificate': '{\"student_id\": 1, \"name\": \"Ivan Ivanov\", \"date\": '\n",
      "                '\"2017-12-21\", \"grade\": \"87.7\"}',\n",
      " 'hashpath': [('dfbf020ed341ed2b986ab53ee26ea022c823380d', 'r'),\n",
      "              ('fbf0def5477ef62730c4cea704c43a6e564493f9', 'r'),\n",
      "              ('0ba064867dda942e1c6efd348b984b139195ab05', 'r')],\n",
      " 'position': '64ae595b579f72e188ca490046564229ba030ad7cbf04d24c9537c5e2777c0f6',\n",
      " 'signature': b'0f\\x021\\x00\\xed\\x9c\\xc6\\x9e\\xaf\\x95\\xa20\\xca8\\xeb\\x06#i\\x15'\n",
      "              b'\\x05\\xaa\\xc2a{\\xa6\\xe3iA\\x86\\xa4r\\xf6<oI<\\x89t\\xc7t\\xc0\\xf3\\xa8'\n",
      "              b'\\xaf\\xe0Mr\\xf3\\x9ev\\xd8x\\x021\\x00\\xf0\\x9b\\xdc\\xe0'\n",
      "              b'\\xd3\\x80\\x0c\\x99]D;\\xa9\\xf80m\\xccD\\x14\"\\x9f\\x02\\xe7z\\x96\\xa6,8P'\n",
      "              b\"-\\xf7\\xe2z\\xdf\\xf7\\xb5X\\xa3\\x0ck\\x92\\x92\\xe6O'CO\\xdf\\xcd\"}\n"
     ]
    }
   ],
   "source": [
    "certificates_to_distribute = issuer.distribute_data()\n",
    "\n",
    "example_certificate = certificates_to_distribute[list(certificates_to_distribute.keys())[0]]\n",
    "pprint(example_certificate)"
   ]
  },
  {
   "cell_type": "markdown",
   "metadata": {},
   "source": [
    "### Now we instantiate a validator:"
   ]
  },
  {
   "cell_type": "code",
   "execution_count": 24,
   "metadata": {},
   "outputs": [
    {
     "ename": "AttributeError",
     "evalue": "'Validator' object has no attribute 'base_url'",
     "output_type": "error",
     "traceback": [
      "\u001b[0;31m---------------------------------------------------------------------------\u001b[0m",
      "\u001b[0;31mAttributeError\u001b[0m                            Traceback (most recent call last)",
      "\u001b[0;32m<ipython-input-24-e60eb3ca8445>\u001b[0m in \u001b[0;36m<module>\u001b[0;34m()\u001b[0m\n\u001b[1;32m      7\u001b[0m \u001b[0msignature\u001b[0m \u001b[0;34m=\u001b[0m \u001b[0mexample_certificate\u001b[0m\u001b[0;34m[\u001b[0m\u001b[0;34m'signature'\u001b[0m\u001b[0;34m]\u001b[0m\u001b[0;34m\u001b[0m\u001b[0m\n\u001b[1;32m      8\u001b[0m \u001b[0;34m\u001b[0m\u001b[0m\n\u001b[0;32m----> 9\u001b[0;31m \u001b[0mvalidator\u001b[0m\u001b[0;34m.\u001b[0m\u001b[0mvalidate\u001b[0m\u001b[0;34m(\u001b[0m\u001b[0mcertificate\u001b[0m\u001b[0;34m,\u001b[0m \u001b[0mhashpath\u001b[0m\u001b[0;34m,\u001b[0m \u001b[0mposition\u001b[0m\u001b[0;34m,\u001b[0m \u001b[0msignature\u001b[0m\u001b[0;34m)\u001b[0m\u001b[0;34m\u001b[0m\u001b[0m\n\u001b[0m",
      "\u001b[0;32m~/dank/Blocktificates/certificates.py\u001b[0m in \u001b[0;36mvalidate\u001b[0;34m(self, certificate, hashpath, transaction, signature)\u001b[0m\n\u001b[1;32m     11\u001b[0m     \u001b[0;32mdef\u001b[0m \u001b[0mvalidate\u001b[0m\u001b[0;34m(\u001b[0m\u001b[0mself\u001b[0m\u001b[0;34m,\u001b[0m \u001b[0mcertificate\u001b[0m\u001b[0;34m,\u001b[0m \u001b[0mhashpath\u001b[0m\u001b[0;34m,\u001b[0m \u001b[0mtransaction\u001b[0m\u001b[0;34m,\u001b[0m \u001b[0msignature\u001b[0m\u001b[0;34m)\u001b[0m\u001b[0;34m:\u001b[0m\u001b[0;34m\u001b[0m\u001b[0m\n\u001b[1;32m     12\u001b[0m         \u001b[0mroot\u001b[0m \u001b[0;34m=\u001b[0m \u001b[0mself\u001b[0m\u001b[0;34m.\u001b[0m\u001b[0m_calculate_root\u001b[0m\u001b[0;34m(\u001b[0m\u001b[0mcertificate\u001b[0m\u001b[0;34m,\u001b[0m \u001b[0mhashpath\u001b[0m\u001b[0;34m)\u001b[0m\u001b[0;34m\u001b[0m\u001b[0m\n\u001b[0;32m---> 13\u001b[0;31m         \u001b[0;32mif\u001b[0m \u001b[0mself\u001b[0m\u001b[0;34m.\u001b[0m\u001b[0m_check_position\u001b[0m\u001b[0;34m(\u001b[0m\u001b[0mroot\u001b[0m\u001b[0;34m,\u001b[0m \u001b[0mtransaction\u001b[0m\u001b[0;34m)\u001b[0m \u001b[0;34m==\u001b[0m \u001b[0;32mTrue\u001b[0m \u001b[0;32mand\u001b[0m \u001b[0mself\u001b[0m\u001b[0;34m.\u001b[0m\u001b[0m_check_signature\u001b[0m\u001b[0;34m(\u001b[0m\u001b[0mroot\u001b[0m\u001b[0;34m,\u001b[0m \u001b[0msignature\u001b[0m\u001b[0;34m)\u001b[0m \u001b[0;34m==\u001b[0m \u001b[0;32mTrue\u001b[0m \u001b[0;32mand\u001b[0m \u001b[0mself\u001b[0m\u001b[0;34m.\u001b[0m\u001b[0m_check_revoked\u001b[0m\u001b[0;34m(\u001b[0m\u001b[0;34m)\u001b[0m \u001b[0;34m==\u001b[0m \u001b[0;32mTrue\u001b[0m\u001b[0;34m:\u001b[0m\u001b[0;34m\u001b[0m\u001b[0m\n\u001b[0m\u001b[1;32m     14\u001b[0m             \u001b[0;32mreturn\u001b[0m \u001b[0;32mTrue\u001b[0m\u001b[0;34m\u001b[0m\u001b[0m\n\u001b[1;32m     15\u001b[0m         \u001b[0;32melse\u001b[0m\u001b[0;34m:\u001b[0m\u001b[0;34m\u001b[0m\u001b[0m\n",
      "\u001b[0;32m~/dank/Blocktificates/certificates.py\u001b[0m in \u001b[0;36m_check_position\u001b[0;34m(self, root, transaction)\u001b[0m\n\u001b[1;32m     29\u001b[0m \u001b[0;34m\u001b[0m\u001b[0m\n\u001b[1;32m     30\u001b[0m     \u001b[0;32mdef\u001b[0m \u001b[0m_check_position\u001b[0m\u001b[0;34m(\u001b[0m\u001b[0mself\u001b[0m\u001b[0;34m,\u001b[0m \u001b[0mroot\u001b[0m\u001b[0;34m,\u001b[0m \u001b[0mtransaction\u001b[0m\u001b[0;34m)\u001b[0m\u001b[0;34m:\u001b[0m\u001b[0;34m\u001b[0m\u001b[0m\n\u001b[0;32m---> 31\u001b[0;31m         response = requests.post(self.base_url + \"check_root\",\n\u001b[0m\u001b[1;32m     32\u001b[0m                                  data={\"hash\": root,\n\u001b[1;32m     33\u001b[0m                                        \"txhash\": transaction}).json()\n",
      "\u001b[0;31mAttributeError\u001b[0m: 'Validator' object has no attribute 'base_url'"
     ]
    }
   ],
   "source": [
    "validator = issuer.create_validator()\n",
    "\n",
    "\n",
    "certificate = Certificate.from_json(loads(example_certificate['certificate']))\n",
    "hashpath = example_certificate['hashpath']\n",
    "position = example_certificate['position']\n",
    "signature = example_certificate['signature']\n",
    "\n",
    "validator.validate(certificate, hashpath, position, signature)"
   ]
  },
  {
   "cell_type": "markdown",
   "metadata": {},
   "source": [
    "(Insert stuff about validation here)"
   ]
  },
  {
   "cell_type": "code",
   "execution_count": 23,
   "metadata": {},
   "outputs": [
    {
     "data": {
      "text/plain": [
       "<creator.Certificate at 0x7f3e98c3c940>"
      ]
     },
     "execution_count": 23,
     "metadata": {},
     "output_type": "execute_result"
    }
   ],
   "source": [
    "certificate"
   ]
  },
  {
   "cell_type": "code",
   "execution_count": null,
   "metadata": {
    "collapsed": true
   },
   "outputs": [],
   "source": []
  }
 ],
 "metadata": {
  "kernelspec": {
   "display_name": "Python [default]",
   "language": "python",
   "name": "python3"
  },
  "language_info": {
   "codemirror_mode": {
    "name": "ipython",
    "version": 3
   },
   "file_extension": ".py",
   "mimetype": "text/x-python",
   "name": "python",
   "nbconvert_exporter": "python",
   "pygments_lexer": "ipython3",
   "version": "3.6.3"
  }
 },
 "nbformat": 4,
 "nbformat_minor": 2
}
