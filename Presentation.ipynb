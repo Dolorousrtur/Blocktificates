{
 "cells": [
  {
   "cell_type": "markdown",
   "metadata": {
    "slideshow": {
     "slide_type": "skip"
    }
   },
   "source": [
    "## Useful links:\n",
    "**GitHub:**\n",
    " * [Pycoin](https://github.com/richardkiss/pycoin)\n",
    " * [Merkle Tree](https://github.com/JaeDukSeo/Simple-Merkle-Tree-in-Python)\n",
    " * [Signed sertificates](https://github.com/blockchain-certificates/cert-issuer)\n",
    " * [MIT project](http://certificates.media.mit.edu)\n",
    " \n",
    "**Articles:**\n",
    " * [Change](https://en.bitcoin.it/wiki/Change)\n",
    " * [MIT project](http://news.mit.edu/2017/mit-debuts-secure-digital-diploma-using-bitcoin-blockchain-technology-1017)\n",
    " * [Blockchain Certificates](http://www.blockcerts.org)\n",
    " * [MIT: What we learned from designing an academic certificates system on the blockchain](https://medium.com/mit-media-lab/what-we-learned-from-designing-an-academic-certificates-system-on-the-blockchain-34ba5874f196)\n",
    " * [MIT: Certificates, Reputation, and the Blockchain](https://medium.com/mit-media-lab/certificates-reputation-and-the-blockchain-aee03622426f)\n"
   ]
  },
  {
   "cell_type": "markdown",
   "metadata": {
    "slideshow": {
     "slide_type": "slide"
    }
   },
   "source": [
    "# Project of Blockchain Course at Skoltech 2017\n",
    "## Name: Blockchain Certificates\n",
    "\n",
    "Authors:\n",
    " * Artur Grigorev\n",
    " * Satyarth Mishra Sharma\n",
    " * Rasul Khasianov\n",
    " "
   ]
  },
  {
   "cell_type": "markdown",
   "metadata": {
    "slideshow": {
     "slide_type": "slide"
    }
   },
   "source": [
    "## How it works\n",
    "\n",
    "![img1](files/basis.png)\n",
    "\n",
    "**How it works?**\n",
    " * After the student downloads the app, it generates the public-private key pair and sends the public key to MIT, where it is written into the digital record. \n",
    " * Next, a one-way hash (a string of numbers that can be used for verification later) is added to the blockchain. The diploma information itself doesn’t go onto the blockchain, just the timestamped transaction indicating that MIT created the digital record. \n",
    " * Finally, MIT emails the digital diploma (a JavaScript Object Notation file, or JSON) with the student’s public key inscribed into it. Because the mobile app on the student’s phone has their unique private key, the student can prove ownership of the diploma."
   ]
  },
  {
   "cell_type": "markdown",
   "metadata": {
    "slideshow": {
     "slide_type": "slide"
    }
   },
   "source": [
    "## Architecture: Issuer, Viewer, Schema\n",
    "* Cert-schema describes the data standard for digital certificates. A digital certificate is essentially a JSON file with the necessary fields needed for our cert-issuer code to place it on the blockchain. We tried to keep the schema as close to the open badges specification as possible and expect to be even more closely aligned with the next version of the specification.\n",
    "* Cert-issuer takes a JSON certificate, creates a hash (a short string that can be used to uniquely identify a larger digital file) of the certificate, and issues a certificate by broadcasting a Bitcoin transaction from the issuing institution’s address to a recipient’s address with the hash embedded within the OP_RETURN field.\n",
    "* Cert-viewer is used to display and verify digital certificates after they have been issued. The viewer code also provides the ability for users to request certificates and to generate a new Bitcoin identity."
   ]
  },
  {
   "cell_type": "markdown",
   "metadata": {
    "slideshow": {
     "slide_type": "slide"
    }
   },
   "source": [
    "![gif](files/verifying.gif)"
   ]
  }
 ],
 "metadata": {
  "celltoolbar": "Slideshow",
  "kernelspec": {
   "display_name": "Python 3",
   "language": "python",
   "name": "python3"
  },
  "language_info": {
   "codemirror_mode": {
    "name": "ipython",
    "version": 3
   },
   "file_extension": ".py",
   "mimetype": "text/x-python",
   "name": "python",
   "nbconvert_exporter": "python",
   "pygments_lexer": "ipython3",
   "version": "3.6.3"
  }
 },
 "nbformat": 4,
 "nbformat_minor": 2
}
