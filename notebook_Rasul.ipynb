{
 "cells": [
  {
   "cell_type": "code",
   "execution_count": 1,
   "metadata": {},
   "outputs": [],
   "source": [
    "import numpy as np\n",
    "import pandas as pd\n",
    "import hashlib, json, sys\n",
    "from collections import OrderedDict"
   ]
  },
  {
   "cell_type": "code",
   "execution_count": 2,
   "metadata": {},
   "outputs": [],
   "source": [
    "def hashMe(msg=\"\"):\n",
    "    # For convenience, this is a helper function that wraps our hashing algorithm\n",
    "    if type(msg)!=str:\n",
    "        msg = json.dumps(msg, sort_keys=True)  # If we don't sort keys, we can't guarantee repeatability!\n",
    "        \n",
    "    if sys.version_info.major == 2:\n",
    "        return unicode(hashlib.sha256(msg).hexdigest(),'utf-8')\n",
    "    else:\n",
    "        return hashlib.sha256(str(msg).encode('utf-8')).hexdigest()"
   ]
  },
  {
   "cell_type": "markdown",
   "metadata": {},
   "source": [
    "## Generate data example"
   ]
  },
  {
   "cell_type": "code",
   "execution_count": 3,
   "metadata": {},
   "outputs": [],
   "source": [
    "person1 = {'name': 'Bob', 'age': '22'}\n",
    "person2 = {'name': 'Alice', 'age': '23'}\n",
    "\n",
    "json_data1 = open('files/unsigned12.json').read()\n",
    "data1 = json.loads(json_data1)\n",
    "json_data2 = open('files/unsigned.json').read()\n",
    "data2 = json.loads(json_data2)"
   ]
  },
  {
   "cell_type": "code",
   "execution_count": 4,
   "metadata": {},
   "outputs": [
    {
     "data": {
      "text/plain": [
       "'a260b57444ad77a3a01395a9e8c628ce2c74271c8c79d76a3e79f8d8cfafa9aa'"
      ]
     },
     "execution_count": 4,
     "metadata": {},
     "output_type": "execute_result"
    }
   ],
   "source": [
    "hashMe(person1)"
   ]
  },
  {
   "cell_type": "code",
   "execution_count": 6,
   "metadata": {},
   "outputs": [
    {
     "data": {
      "text/plain": [
       "'09a8c01198141bfed5ca1e63e0a44512603ea0413531dec9a4686d58cc80f22d'"
      ]
     },
     "execution_count": 6,
     "metadata": {},
     "output_type": "execute_result"
    }
   ],
   "source": [
    "hashMe(data1)"
   ]
  },
  {
   "cell_type": "markdown",
   "metadata": {},
   "source": [
    "## Merkle Tree"
   ]
  },
  {
   "cell_type": "code",
   "execution_count": 7,
   "metadata": {},
   "outputs": [
    {
     "name": "stdout",
     "output_type": "stream",
     "text": [
      "Merkel Tree:\n",
      "{\n",
      "          \"{\\\"@context\\\": \\\"https://www.blockcerts.org/schema/1.2/context.json\\\", \\\"document\\\": {\\\"assertion\\\": {\\\"evidence\\\": \\\"\\\", \\\"id\\\": \\\"http://www.theissuer.edu/fb9e6259-f3ee-438a-b98f-a24f54187af8\\\", \\\"image:signature\\\": \\\"data:image/png;base64,\\\", \\\"issuedOn\\\": \\\"2016-05-26T12:00:00Z\\\", \\\"type\\\": \\\"Assertion\\\", \\\"uid\\\": \\\"fb9e6259-f3ee-438a-b98f-a24f54187af8\\\"}, \\\"certificate\\\": {\\\"description\\\": \\\"Certificate description\\\", \\\"image\\\": \\\"data:image/png;base64,\\\", \\\"issuer\\\": {\\\"email\\\": \\\"issuer@theissuer.edu\\\", \\\"id\\\": \\\"https://www.theissuer.edu/issuer/the-issuer.json\\\", \\\"image\\\": \\\"data:image/png;base64,\\\", \\\"name\\\": \\\"Issuing Institution\\\", \\\"type\\\": \\\"Issuer\\\", \\\"url\\\": \\\"http://www.theissuer.edu\\\"}, \\\"name\\\": \\\"Certificate name\\\", \\\"subtitle\\\": \\\"2016\\\", \\\"type\\\": \\\"Certificate\\\"}, \\\"recipient\\\": {\\\"familyName\\\": \\\"RecipientLastName\\\", \\\"givenName\\\": \\\"RecipientFirstName\\\", \\\"hashed\\\": false, \\\"identity\\\": \\\"recipient@domain.com\\\", \\\"publicKey\\\": \\\"1GCrFRozNVWCqTreV7ZoXudiotknoJeXaz\\\", \\\"type\\\": \\\"email\\\"}, \\\"type\\\": \\\"CertificateDocument\\\", \\\"verify\\\": {\\\"attribute-signed\\\": \\\"uid\\\", \\\"type\\\": \\\"ECDSA(secp256k1)\\\"}}, \\\"type\\\": \\\"BlockchainCertificate\\\"}\": \"09a8c01198141bfed5ca1e63e0a44512603ea0413531dec9a4686d58cc80f22d\",\n",
      "          \"{\\\"assertion\\\": {\\\"evidence\\\": \\\"\\\", \\\"id\\\": \\\"http://www.theissuer.edu/68656c6c6f636f6d7077ffff\\\", \\\"image:signature\\\": \\\"data:image/png;base64,\\\", \\\"issuedOn\\\": \\\"2016-05-26T12:00:00.000000\\\", \\\"uid\\\": \\\"68656c6c6f636f6d7077ffff\\\"}, \\\"certificate\\\": {\\\"description\\\": \\\"Certificate description\\\", \\\"id\\\": \\\"https://www.theissuer.edu/criteria/2016/05/certificate-type.json\\\", \\\"image\\\": \\\"data:image/png;base64,\\\", \\\"issuer\\\": {\\\"email\\\": \\\"issuer@theissuer.edu\\\", \\\"id\\\": \\\"https://www.theissuer.edu/issuer/the-issuer.json\\\", \\\"image\\\": \\\"data:image/png;base64,\\\", \\\"name\\\": \\\"Issuing Institution\\\", \\\"url\\\": \\\"http://www.theissuer.edu\\\"}, \\\"subtitle\\\": {\\\"content\\\": \\\"2016\\\", \\\"display\\\": false}, \\\"title\\\": \\\"Certificate title\\\"}, \\\"recipient\\\": {\\\"familyName\\\": \\\"RecipientLastName\\\", \\\"givenName\\\": \\\"RecipientFirstName\\\", \\\"hashed\\\": false, \\\"identity\\\": \\\"recipient@domain.com\\\", \\\"pubkey\\\": \\\"n1EduLzKsTL1pM8Roz9vEV16AQnBdg9JCx\\\", \\\"type\\\": \\\"email\\\"}, \\\"verify\\\": {\\\"attribute-signed\\\": \\\"uid\\\", \\\"signer\\\": \\\"https://www.theissuer.edu/keys/signing-public-key.asc\\\", \\\"type\\\": \\\"ECDSA(secp256k1)\\\"}}\": \"19a817471fa4bc8938d64f5b5e9e04f06768e4ff3497a55d7f0d422f759b7d46\",\n",
      "          \"09a8c01198141bfed5ca1e63e0a44512603ea0413531dec9a4686d58cc80f22d19a817471fa4bc8938d64f5b5e9e04f06768e4ff3497a55d7f0d422f759b7d46\": \"68ca23c21caac0b6f3c030cac2698bab26fe7164d92210b853b72c19ad17b590\",\n",
      "          \"09a8c01198141bfed5ca1e63e0a44512603ea0413531dec9a4686d58cc80f22d\": \"f4a9f4a2ce7686fa95359944d4eb5886b73cc0bc71577abbfc0edfb7cd02fbd4\",\n",
      "          \"68ca23c21caac0b6f3c030cac2698bab26fe7164d92210b853b72c19ad17b590f4a9f4a2ce7686fa95359944d4eb5886b73cc0bc71577abbfc0edfb7cd02fbd4\": \"2bcc8869b23820a4b3bf1cdf17a3bc0582380bc24fd07a846eab69843fdcf2ab\"\n",
      "}\n",
      "\n",
      " Final root of the Merkel tree :  2bcc8869b23820a4b3bf1cdf17a3bc0582380bc24fd07a846eab69843fdcf2ab\n",
      "--------------------------------------------------\n"
     ]
    }
   ],
   "source": [
    "# 1. Declare the class trees\n",
    "class Jae_MerkTree:\n",
    "\n",
    "    # 2. Initiate the class object\n",
    "    def __init__(self, listoftransaction=None, dataoftransaction=None):\n",
    "        self.listoftransaction = listoftransaction\n",
    "        self.past_transaction = OrderedDict()\n",
    "        #self.dataoftransaction = dataoftransaction\n",
    "\n",
    "    # 3. Create the Merkle Tree  \n",
    "    def create_tree(self):\n",
    "\n",
    "        # 3.0 Continue on the declaration\n",
    "        listoftransaction = self.listoftransaction\n",
    "        past_transaction = self.past_transaction\n",
    "        temp_transaction = []\n",
    "\n",
    "        # 3.1 Loop until the list finishes\n",
    "        for index in range(0,len(listoftransaction),2):\n",
    "\n",
    "            # 3.2 Get the most left element \n",
    "            current = listoftransaction[index]\n",
    "\n",
    "            # 3.3 If there is still index left get the right of the left most element\n",
    "            if index+1 != len(listoftransaction):\n",
    "                current_right = listoftransaction[index+1]\n",
    "\n",
    "            # 3.4 If we reached the limit of the list then make a empty string\n",
    "            else:\n",
    "                current_right = ''\n",
    "\n",
    "            # 3.5 Apply the Hash 256 function to the current values\n",
    "            current_hash = self.hashMe(current)\n",
    "\n",
    "            # 3.6 If the current right hash is not a '' <- empty string\n",
    "            if current_right != '':\n",
    "                current_right_hash = self.hashMe(current_right)\n",
    "\n",
    "            # 3.7 Add the Transaction to the dictionary \n",
    "            past_transaction[listoftransaction[index]] = current_hash\n",
    "\n",
    "            # 3.8 If the next right is not empty\n",
    "            if current_right != '':\n",
    "                past_transaction[listoftransaction[index+1]] = current_right_hash\n",
    "\n",
    "            # 3.9 Create the new list of transaction\n",
    "            if current_right != '':\n",
    "                temp_transaction.append(current_hash + current_right_hash)\n",
    "\n",
    "            # 3.01 If the left most is an empty string then only add the current value\n",
    "            else:\n",
    "                temp_transaction.append(current_hash)\n",
    "\n",
    "        # 3.02 Update the variables and rerun the function again \n",
    "        if len(listoftransaction) != 1:\n",
    "            self.listoftransaction = temp_transaction\n",
    "            self.past_transaction = past_transaction\n",
    "\n",
    "            # 3.03 Call the function repeatly again and again until we get the root \n",
    "            self.create_tree()\n",
    "            \n",
    "    # 4. Return the past Transaction \n",
    "    def Get_past_transacion(self):\n",
    "        return self.past_transaction\n",
    "\n",
    "    # 5. Get the root of the transaction\n",
    "    def Get_Root_leaf(self):\n",
    "        last_key = list(self.past_transaction.keys())[-1]\n",
    "        return self.past_transaction[last_key]\n",
    "\n",
    "    def hashMe(self, msg=\"\"):\n",
    "        # For convenience, this is a helper function that wraps our hashing algorithm\n",
    "        if type(msg)!=str:\n",
    "            msg = json.dumps(msg, sort_keys=True)  # If we don't sort keys, we can't guarantee repeatability!\n",
    "\n",
    "        if sys.version_info.major == 2:\n",
    "            return unicode(hashlib.sha256(msg).hexdigest(),'utf-8')\n",
    "        else:\n",
    "            return hashlib.sha256(str(msg).encode('utf-8')).hexdigest()\n",
    "    \n",
    "# Declare the main part of the function to run\n",
    "if __name__ == \"__main__\":\n",
    "\n",
    "    # a) Create the new class of Jae_MerkTree\n",
    "    Jae_Tree = Jae_MerkTree()\n",
    "\n",
    "    # b) Give list of transaction\n",
    "    msg1 = json.dumps(data1, sort_keys=True)\n",
    "    msg2 = json.dumps(data2, sort_keys=True)\n",
    "    transaction = [msg1, msg2, msg1]\n",
    "\n",
    "    # c) pass on the transaction list \n",
    "    Jae_Tree.listoftransaction = transaction\n",
    "    #Jae_Tree.dataoftransaction = values\n",
    "    \n",
    "\n",
    "    # d) Create the Merkle Tree transaction\n",
    "    Jae_Tree.create_tree()\n",
    "\n",
    "    # e) Retrieve the transaction \n",
    "    past_transaction = Jae_Tree.Get_past_transacion()\n",
    "\n",
    "    # f) Get the last transaction and print all \n",
    "    print(\"Merkel Tree:\")\n",
    "    print(json.dumps(past_transaction, indent=10))\n",
    "    print('\\n Final root of the Merkel tree : ',Jae_Tree.Get_Root_leaf())\n",
    "    print(\"-\" * 50)\n"
   ]
  },
  {
   "cell_type": "code",
   "execution_count": 98,
   "metadata": {},
   "outputs": [
    {
     "data": {
      "text/plain": [
       "['09a8c01198141bfed5ca1e63e0a44512603ea0413531dec9a4686d58cc80f22d',\n",
       " '19a817471fa4bc8938d64f5b5e9e04f06768e4ff3497a55d7f0d422f759b7d46',\n",
       " '68ca23c21caac0b6f3c030cac2698bab26fe7164d92210b853b72c19ad17b590',\n",
       " 'f4a9f4a2ce7686fa95359944d4eb5886b73cc0bc71577abbfc0edfb7cd02fbd4',\n",
       " '2bcc8869b23820a4b3bf1cdf17a3bc0582380bc24fd07a846eab69843fdcf2ab']"
      ]
     },
     "execution_count": 98,
     "metadata": {},
     "output_type": "execute_result"
    }
   ],
   "source": [
    "list(past_transaction.values()) # the first two rows - hashes of \"certificates\" "
   ]
  }
 ],
 "metadata": {
  "kernelspec": {
   "display_name": "Python [default]",
   "language": "python",
   "name": "python3"
  },
  "language_info": {
   "codemirror_mode": {
    "name": "ipython",
    "version": 3
   },
   "file_extension": ".py",
   "mimetype": "text/x-python",
   "name": "python",
   "nbconvert_exporter": "python",
   "pygments_lexer": "ipython3",
   "version": "3.6.3"
  }
 },
 "nbformat": 4,
 "nbformat_minor": 2
}
